{
 "cells": [
  {
   "cell_type": "markdown",
   "metadata": {},
   "source": [
    "# Lesson 1 Exercise 2: Creating a Table with Apache Cassandra\n",
    "\n",
    "<img src=\"images/cassandralogo.png\" width=\"250\" height=\"250\">"
   ]
  },
  {
   "cell_type": "markdown",
   "metadata": {},
   "source": [
    "### In this exercise we are going to walk through the basics of creating a table in Apache Cassandra, inserting rows of data, and doing a simple SQL query to validate the information. \n",
    "\n",
    "### Fill in the code where you see #####"
   ]
  },
  {
   "cell_type": "markdown",
   "metadata": {},
   "source": [
    "#### We will use a python wrapper/ python driver called cassandra to run the Apache Cassandra queries. This library should be preinstalled, but to install this library in the future you can run this command in a notebook to install locally: \n",
    "! pip install cassandra-driver\n",
    "#### More documentation can be found here:  https://datastax.github.io/python-driver/"
   ]
  },
  {
   "cell_type": "markdown",
   "metadata": {},
   "source": [
    "#### Import Apache Cassandra python package"
   ]
  },
  {
   "cell_type": "code",
   "execution_count": 1,
   "metadata": {},
   "outputs": [],
   "source": [
    "import cassandra"
   ]
  },
  {
   "cell_type": "markdown",
   "metadata": {},
   "source": [
    "### First let's create a connection to the database\n",
    "This connects to our local instance of Apache Cassandra. This connection will reach out to the database and insure we have the correct privileges to connect to this database. Once we get back the cluster object, we need to connect and that will create our session that we will use to execute queries.\n",
    "#### Note 1: This block of code will be standard in all notebooks"
   ]
  },
  {
   "cell_type": "code",
   "execution_count": 2,
   "metadata": {},
   "outputs": [],
   "source": [
    "from cassandra.cluster import Cluster\n",
    "\n",
    "# connect to the locally installed Apache Cassandra instance\n",
    "cluster = Cluster(['127.0.0.1'])\n",
    "\n",
    "# Create a session to execute inside it the queries\n",
    "session = cluster.connect()"
   ]
  },
  {
   "cell_type": "markdown",
   "metadata": {},
   "source": [
    "### Let's Test our Connection \n",
    "We are trying to do a `select *` on a table we have not created yet. We should expect to see a nicely handled error. "
   ]
  },
  {
   "cell_type": "code",
   "execution_count": 3,
   "metadata": {},
   "outputs": [
    {
     "ename": "InvalidRequest",
     "evalue": "Error from server: code=2200 [Invalid query] message=\"No keyspace has been specified. USE a keyspace, or explicitly specify keyspace.tablename\"",
     "output_type": "error",
     "traceback": [
      "\u001b[1;31m---------------------------------------------------------------------------\u001b[0m",
      "\u001b[1;31mInvalidRequest\u001b[0m                            Traceback (most recent call last)",
      "\u001b[1;32m~\\AppData\\Local\\Temp/ipykernel_11060/137176586.py\u001b[0m in \u001b[0;36m<module>\u001b[1;34m\u001b[0m\n\u001b[1;32m----> 1\u001b[1;33m \u001b[0msession\u001b[0m\u001b[1;33m.\u001b[0m\u001b[0mexecute\u001b[0m\u001b[1;33m(\u001b[0m\u001b[1;34m\"SELECT * FROM music_library\"\u001b[0m\u001b[1;33m)\u001b[0m\u001b[1;33m\u001b[0m\u001b[1;33m\u001b[0m\u001b[0m\n\u001b[0m",
      "\u001b[1;32m~\\AppData\\Roaming\\Python\\Python38\\site-packages\\cassandra\\cluster.cp38-win_amd64.pyd\u001b[0m in \u001b[0;36mcassandra.cluster.Session.execute\u001b[1;34m()\u001b[0m\n",
      "\u001b[1;32m~\\AppData\\Roaming\\Python\\Python38\\site-packages\\cassandra\\cluster.cp38-win_amd64.pyd\u001b[0m in \u001b[0;36mcassandra.cluster.ResponseFuture.result\u001b[1;34m()\u001b[0m\n",
      "\u001b[1;31mInvalidRequest\u001b[0m: Error from server: code=2200 [Invalid query] message=\"No keyspace has been specified. USE a keyspace, or explicitly specify keyspace.tablename\""
     ]
    }
   ],
   "source": [
    "session.execute(\"SELECT * FROM music_library\")"
   ]
  },
  {
   "cell_type": "markdown",
   "metadata": {},
   "source": [
    "### Let's create a keyspace to do our work in \n",
    "Note: Ignore the Replication Stratgety and factor information for now. Those will be discussed later. Just know that on a one node local instance this will be the strategy and replication factor. "
   ]
  },
  {
   "cell_type": "code",
   "execution_count": 4,
   "metadata": {},
   "outputs": [
    {
     "data": {
      "text/plain": [
       "<cassandra.cluster.ResultSet at 0x1d73900f490>"
      ]
     },
     "execution_count": 4,
     "metadata": {},
     "output_type": "execute_result"
    }
   ],
   "source": [
    "session.execute(\"\"\"\n",
    "    CREATE KEYSPACE IF NOT EXISTS udacity\n",
    "    WITH REPLICATION = \n",
    "        {'class' : 'SimpleStrategy', 'replication_factor' : 1}\n",
    "\"\"\")"
   ]
  },
  {
   "cell_type": "markdown",
   "metadata": {},
   "source": [
    "#### Connect to our Keyspace. Compare this to how we had to create a new session in PostgreSQL.  "
   ]
  },
  {
   "cell_type": "code",
   "execution_count": 5,
   "metadata": {},
   "outputs": [],
   "source": [
    "# we don't need to close the connection and re-connect\n",
    "# we simply set the keyspace as follows:\n",
    "session.set_keyspace(\"udacity\")"
   ]
  },
  {
   "cell_type": "markdown",
   "metadata": {},
   "source": [
    "## Let's imagine we would like to start creating a Song Library of all the songs we own. Each song has a lot of information we could add to the song library table, but we will just start with name of the song, artist name, year, album it was from, and if it was a single.\n",
    "\n",
    "`song title\n",
    "artist\n",
    "year\n",
    "album\n",
    "single`\n"
   ]
  },
  {
   "cell_type": "markdown",
   "metadata": {},
   "source": [
    "## But ...STOP\n",
    "<img src=\"images/stop.jpeg\" width=\"250\" height=\"250\">\n",
    "\n",
    "### We are working with Apache Cassandra a NoSQL database. We can't model our data and create our table with out more information.\n",
    "\n",
    "# What queries will I be performing on this data?"
   ]
  },
  {
   "cell_type": "markdown",
   "metadata": {},
   "source": [
    "### In this case I would like to be able to get every song by a certain artist that was released in a particular year. \n",
    "\n",
    "\n",
    "`select * from songs WHERE YEAR=1970 AND artist_name='The Beatles'`\n",
    "\n",
    "### Because of this I need to be able to do a WHERE on YEAR. YEAR will become my partition key, and artist name will be my clustering column to make each Primary Key unique. Remember there are no duplicates in Apache Cassandra. \n",
    "\n",
    "### Now to translate this information into a Create Table Statement. \n",
    "\n",
    "#### More infomration on Data Types can be found here: https://datastax.github.io/python-driver/"
   ]
  },
  {
   "cell_type": "code",
   "execution_count": 6,
   "metadata": {},
   "outputs": [
    {
     "data": {
      "text/plain": [
       "<cassandra.cluster.ResultSet at 0x1d73181be20>"
      ]
     },
     "execution_count": 6,
     "metadata": {},
     "output_type": "execute_result"
    }
   ],
   "source": [
    "# Let's build our query\n",
    "# remember to add space at the end if you will build the query by dividing it on multiple lines\n",
    "query = \"CREATE TABLE IF NOT EXISTS music_library \" \n",
    "\n",
    "# Note that we will pass all three columns we want first,\n",
    "# then we define in the PRIMARY KEY which of them will be the partition key, and which will be\n",
    "# the clustering column\n",
    "query = query + \"(year int, artist_name text, album_name text, PRIMARY KEY (year, artist_name))\"\n",
    "\n",
    "# Execute the query to create our table\n",
    "session.execute(query)"
   ]
  },
  {
   "cell_type": "markdown",
   "metadata": {},
   "source": [
    "### No error was found, but let's check to ensure our table was created.  `select count(*)` which should return 0 as we have not inserted any rows. \n",
    "\n",
    "Note: Depending on the version of Apache Cassandra you have installed, this might throw an \"ALLOW FILTERING\" error instead of a result of \"0\". This is to be expected, as this type of query should not be performed on large datasets, we are only doing this for the sake of the demo."
   ]
  },
  {
   "cell_type": "code",
   "execution_count": 7,
   "metadata": {},
   "outputs": [
    {
     "name": "stdout",
     "output_type": "stream",
     "text": [
      "Row(count=2)\n"
     ]
    }
   ],
   "source": [
    "# No error was found, but let's check to ensure our table was created\n",
    "\n",
    "# write the query\n",
    "query = \"SELECT COUNT(*) FROM music_library\"\n",
    "\n",
    "#execute the query\n",
    "count = session.execute(query)\n",
    "\n",
    "# print the output of the execution\n",
    "print(count.one())"
   ]
  },
  {
   "cell_type": "markdown",
   "metadata": {},
   "source": [
    "### Let's insert two rows\n",
    "`First Row:  \"Across The Universe\", \"The Beatles\", \"1970\", \"False\", \"Let It Be\"`\n",
    "\n",
    "`Second Row: \"The Beatles\", \"Think For Yourself\", \"False\", \"1965\", \"Rubber Soul\"`"
   ]
  },
  {
   "cell_type": "code",
   "execution_count": 8,
   "metadata": {},
   "outputs": [
    {
     "data": {
      "text/plain": [
       "<cassandra.cluster.ResultSet at 0x1d73901cee0>"
      ]
     },
     "execution_count": 8,
     "metadata": {},
     "output_type": "execute_result"
    }
   ],
   "source": [
    "# Set the foundation of the query\n",
    "query = \"INSERT INTO music_library (year, artist_name, album_name) \"\n",
    "query = query+  \"VALUES (%s, %s, %s)\"\n",
    "\n",
    "# Insert first row\n",
    "session.execute(query, (1970, \"The Beatles\",\"Let It Be\"))\n",
    "\n",
    "# Insert second row\n",
    "session.execute(query, (1965, \"The Beatles\", \"Rubber Soul\"))"
   ]
  },
  {
   "cell_type": "markdown",
   "metadata": {},
   "source": [
    "### Validate your data was inserted into the table.\n",
    "Note: The for loop is used for printing the results. If executing queries in the cqlsh, this would not be required.\n",
    "\n",
    "Note: Depending on the version of Apache Cassandra you have installed, this might throw an \"ALLOW FILTERING\" error instead of print the 2 rows we just inserted. This is to be expected, as this type of query should not be performed on large datasets, we are only doing this for the sake of the demo."
   ]
  },
  {
   "cell_type": "code",
   "execution_count": 9,
   "metadata": {
    "scrolled": true
   },
   "outputs": [
    {
     "name": "stdout",
     "output_type": "stream",
     "text": [
      "1965 Rubber Soul The Beatles\n",
      "1970 Let It Be The Beatles\n"
     ]
    }
   ],
   "source": [
    "# set the query\n",
    "query = \"SELECT * FROM music_library\"\n",
    "\n",
    "# execute the query and return the resulted rows into a variable\n",
    "rows = session.execute(query)\n",
    "\n",
    "# loop over the results and print them line by line\n",
    "for row in rows:\n",
    "    print(row.year, row.album_name, row.artist_name)"
   ]
  },
  {
   "cell_type": "markdown",
   "metadata": {},
   "source": [
    "### Let's Validate our Data Model with our orignal query.\n",
    "\n",
    "`select * from songs WHERE YEAR=1970 AND artist_name='The Beatles'`"
   ]
  },
  {
   "cell_type": "code",
   "execution_count": 10,
   "metadata": {},
   "outputs": [
    {
     "name": "stdout",
     "output_type": "stream",
     "text": [
      "1970 Let It Be The Beatles\n"
     ]
    }
   ],
   "source": [
    "# Set the query\n",
    "query = \"SELECT * FROM music_library WHERE year=1970 AND artist_name='The Beatles'\"\n",
    "\n",
    "# Execute the query\n",
    "rows = session.execute(query)\n",
    "\n",
    "# Loop over the results and print them\n",
    "for row in rows:\n",
    "    print(row.year, row.album_name, row.artist_name)"
   ]
  },
  {
   "cell_type": "markdown",
   "metadata": {},
   "source": [
    "### And Finally close the session and cluster connection"
   ]
  },
  {
   "cell_type": "code",
   "execution_count": 11,
   "metadata": {},
   "outputs": [],
   "source": [
    "session.shutdown()\n",
    "cluster.shutdown()"
   ]
  }
 ],
 "metadata": {
  "kernelspec": {
   "display_name": "Python 3",
   "language": "python",
   "name": "python3"
  },
  "language_info": {
   "codemirror_mode": {
    "name": "ipython",
    "version": 3
   },
   "file_extension": ".py",
   "mimetype": "text/x-python",
   "name": "python",
   "nbconvert_exporter": "python",
   "pygments_lexer": "ipython3",
   "version": "3.8.5"
  }
 },
 "nbformat": 4,
 "nbformat_minor": 2
}
