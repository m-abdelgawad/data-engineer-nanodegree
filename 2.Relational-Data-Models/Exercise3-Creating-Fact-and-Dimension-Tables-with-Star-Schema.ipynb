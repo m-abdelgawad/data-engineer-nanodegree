{
 "cells": [
  {
   "cell_type": "markdown",
   "metadata": {},
   "source": [
    "# Lesson 2 Exercise 3: Creating Fact and Dimension Tables with Star Schema\n",
    "\n",
    "<img src=\"images/postgresSQLlogo.png\" width=\"250\" height=\"250\">"
   ]
  },
  {
   "cell_type": "markdown",
   "metadata": {},
   "source": [
    "### Walk through the basics of modeling data using Fact and Dimension tables. You will create both Fact and Dimension tables and show how this is a basic element of the Star Schema. \n",
    "\n",
    "#### Where you see ##### you will need to fill in code. \n",
    "\n",
    "### This exercise will be more challenging than the last. Use the information provided to create the tables and write the insert statements. \n",
    "\n",
    "\n",
    "Note: __Do not__ click the blue Preview button at the bottom"
   ]
  },
  {
   "cell_type": "markdown",
   "metadata": {},
   "source": [
    "### Import the library \n",
    "Note: An error might popup after this command has exectuted. If it does read it careful before ignoring. "
   ]
  },
  {
   "cell_type": "code",
   "execution_count": 1,
   "metadata": {},
   "outputs": [],
   "source": [
    "import psycopg2 as postgres"
   ]
  },
  {
   "cell_type": "markdown",
   "metadata": {},
   "source": [
    "### Create a connection to the database"
   ]
  },
  {
   "cell_type": "code",
   "execution_count": 2,
   "metadata": {},
   "outputs": [],
   "source": [
    "# Set the connection string variables\n",
    "hostname = \"127.0.0.1\"\n",
    "database = \"postgres\"\n",
    "username = \"postgres\"\n",
    "password = \"123456\"\n",
    "\n",
    "# Form the connection string\n",
    "connection_string = \"host={} dbname={} user={} password={}\".format(\n",
    "    hostname, database, username, password)\n",
    "\n",
    "# Create a connection with the database\n",
    "connection = postgres.connect(connection_string)"
   ]
  },
  {
   "cell_type": "markdown",
   "metadata": {},
   "source": [
    "### Next use that connect to get a cursor that we will use to execute queries."
   ]
  },
  {
   "cell_type": "code",
   "execution_count": 3,
   "metadata": {},
   "outputs": [],
   "source": [
    "cursor = connection.cursor()"
   ]
  },
  {
   "cell_type": "markdown",
   "metadata": {},
   "source": [
    "#### For this demo we will use automactic commit so that each action is commited without having to call conn.commit() after each command. The ability to rollback and commit transactions is a feature of Relational Databases. "
   ]
  },
  {
   "cell_type": "code",
   "execution_count": 4,
   "metadata": {},
   "outputs": [],
   "source": [
    "connection.set_session(autocommit=True)"
   ]
  },
  {
   "cell_type": "markdown",
   "metadata": {},
   "source": [
    "### Imagine you work at an online Music Store. There will be many tables in our database, but let's just focus on 4 tables around customer purchases. \n",
    "\n",
    "<img src=\"images/starSchema.png\" width=\"750\" height=\"750\">\n",
    "\n",
    "### From this representation you can start to see the makings of a \"STAR\". You will have one fact table (the center of the star) and 3  dimension tables that are coming from it."
   ]
  },
  {
   "cell_type": "markdown",
   "metadata": {},
   "source": [
    "### TO-DO: Create the Fact table and insert the data into the table"
   ]
  },
  {
   "cell_type": "code",
   "execution_count": 5,
   "metadata": {},
   "outputs": [],
   "source": [
    "# Form the query to create the table\n",
    "query = \"CREATE TABLE IF NOT EXISTS customer_transactions \"\n",
    "query += \"(customer_id INT, store_id INT, spent FLOAT)\"\n",
    "\n",
    "# Execute the query and create the query\n",
    "cursor.execute(query)"
   ]
  },
  {
   "cell_type": "code",
   "execution_count": 6,
   "metadata": {},
   "outputs": [],
   "source": [
    "# Form the query to insert rows in the table\n",
    "query = \"INSERT INTO customer_transactions \"\n",
    "# add table columns to the query\n",
    "query += \"(customer_id, store_id, spent) \"\n",
    "# add columns placeholder\n",
    "query += \"VALUES (%s, %s, %s) \""
   ]
  },
  {
   "cell_type": "code",
   "execution_count": 7,
   "metadata": {},
   "outputs": [],
   "source": [
    "# Insert first row\n",
    "cursor.execute(query, (1, 1, 20.50))\n",
    "\n",
    "# Insert second row\n",
    "cursor.execute(query, (2, 1, 35.21))"
   ]
  },
  {
   "cell_type": "code",
   "execution_count": 8,
   "metadata": {},
   "outputs": [
    {
     "name": "stdout",
     "output_type": "stream",
     "text": [
      "Table: Customer Transactions\n",
      "\n",
      "(1, 1, 20.5)\n",
      "(2, 1, 35.21)\n"
     ]
    }
   ],
   "source": [
    "# Confirm that data were inserted successfully\n",
    "cursor.execute(\"SELECT * FROM customer_transactions\")\n",
    "\n",
    "# Fetch first row\n",
    "row = cursor.fetchone()\n",
    "\n",
    "print(\"Table: Customer Transactions\\n\")\n",
    "\n",
    "# Loop and print all rows\n",
    "while row:\n",
    "    print(row)\n",
    "    # Fetch next row\n",
    "    row = cursor.fetchone()"
   ]
  },
  {
   "cell_type": "markdown",
   "metadata": {},
   "source": [
    "### TO-DO: Create the Dimension tables and insert data into those tables."
   ]
  },
  {
   "cell_type": "code",
   "execution_count": 9,
   "metadata": {},
   "outputs": [
    {
     "name": "stdout",
     "output_type": "stream",
     "text": [
      "Table: Customer\n",
      "\n",
      "(1, 'Amanda', True)\n",
      "(2, 'Toby', False)\n"
     ]
    }
   ],
   "source": [
    "# Customer Table\n",
    "\n",
    "# Form the query to create the table\n",
    "query = \"CREATE TABLE IF NOT EXISTS customer \"\n",
    "query += \"(customer_id INT, name VARCHAR, rewards BOOLEAN)\"\n",
    "\n",
    "# Execute the query and create the query\n",
    "cursor.execute(query)\n",
    "\n",
    "# Form the query to insert rows in the table\n",
    "query = \"INSERT INTO customer \"\n",
    "# add table columns to the query\n",
    "query += \"(customer_id, name, rewards) \"\n",
    "# add columns placeholder\n",
    "query += \"VALUES (%s, %s, %s) \"\n",
    "\n",
    "# Insert first row\n",
    "cursor.execute(query, (1, 'Amanda', True))\n",
    "\n",
    "# Insert second row\n",
    "cursor.execute(query, (2, 'Toby', False))\n",
    "\n",
    "# Confirm that data were inserted successfully\n",
    "cursor.execute(\"SELECT * FROM customer\")\n",
    "\n",
    "# Fetch first row\n",
    "row = cursor.fetchone()\n",
    "\n",
    "# Loop and print all rows\n",
    "\n",
    "print(\"Table: Customer\\n\")\n",
    "\n",
    "while row:\n",
    "    print(row)\n",
    "    # Fetch next row\n",
    "    row = cursor.fetchone()"
   ]
  },
  {
   "cell_type": "code",
   "execution_count": 10,
   "metadata": {},
   "outputs": [
    {
     "name": "stdout",
     "output_type": "stream",
     "text": [
      "Table: Items Purchased\n",
      "\n",
      "(1, 1, 'Rubber Soul')\n",
      "(2, 3, 'Let It Be')\n"
     ]
    }
   ],
   "source": [
    "# Items Purchased Table\n",
    "\n",
    "# Form the query to create the table\n",
    "query = \"CREATE TABLE IF NOT EXISTS items_purchased \"\n",
    "query += \"(customer_id INT, item_number INT, item_name VARCHAR)\"\n",
    "\n",
    "# Execute the query and create the query\n",
    "cursor.execute(query)\n",
    "\n",
    "# Form the query to insert rows in the table\n",
    "query = \"INSERT INTO items_purchased \"\n",
    "# add table columns to the query\n",
    "query += \"(customer_id, item_number, item_name) \"\n",
    "# add columns placeholder\n",
    "query += \"VALUES (%s, %s, %s) \"\n",
    "\n",
    "# Insert first row\n",
    "cursor.execute(query, (1, 1, 'Rubber Soul'))\n",
    "\n",
    "# Insert second row\n",
    "cursor.execute(query, (2, 3, 'Let It Be'))\n",
    "\n",
    "# Confirm that data were inserted successfully\n",
    "cursor.execute(\"SELECT * FROM items_purchased\")\n",
    "\n",
    "# Fetch first row\n",
    "row = cursor.fetchone()\n",
    "\n",
    "# Loop and print all rows\n",
    "\n",
    "print(\"Table: Items Purchased\\n\")\n",
    "\n",
    "while row:\n",
    "    print(row)\n",
    "    # Fetch next row\n",
    "    row = cursor.fetchone()"
   ]
  },
  {
   "cell_type": "code",
   "execution_count": 11,
   "metadata": {},
   "outputs": [
    {
     "name": "stdout",
     "output_type": "stream",
     "text": [
      "Table: Store\n",
      "\n",
      "(1, 'CA')\n",
      "(2, 'WA')\n"
     ]
    }
   ],
   "source": [
    "# Items Purchased Table\n",
    "\n",
    "# Form the query to create the table\n",
    "query = \"CREATE TABLE IF NOT EXISTS store \"\n",
    "query += \"(store_id INT, state VARCHAR)\"\n",
    "\n",
    "# Execute the query and create the query\n",
    "cursor.execute(query)\n",
    "\n",
    "# Form the query to insert rows in the table\n",
    "query = \"INSERT INTO store \"\n",
    "# add table columns to the query\n",
    "query += \"(store_id, state) \"\n",
    "# add columns placeholder\n",
    "query += \"VALUES (%s, %s) \"\n",
    "\n",
    "# Insert first row\n",
    "cursor.execute(query, (1, 'CA'))\n",
    "\n",
    "# Insert second row\n",
    "cursor.execute(query, (2, 'WA'))\n",
    "\n",
    "# Confirm that data were inserted successfully\n",
    "cursor.execute(\"SELECT * FROM store\")\n",
    "\n",
    "# Fetch first row\n",
    "row = cursor.fetchone()\n",
    "\n",
    "# Loop and print all rows\n",
    "\n",
    "print(\"Table: Store\\n\")\n",
    "\n",
    "while row:\n",
    "    print(row)\n",
    "    # Fetch next row\n",
    "    row = cursor.fetchone()"
   ]
  },
  {
   "cell_type": "markdown",
   "metadata": {},
   "source": [
    "### Now run the following queries on this data easily because of utilizing the Fact/ Dimension and Star Schema\n",
    " \n",
    "#### Query 1: Find all the customers that spent more than 30 dollars, who are they, which store they bought it from, location of the store, what they bought and if they are a rewards member.\n",
    "\n",
    "#### Query 2: How much did Customer 2 spend?"
   ]
  },
  {
   "cell_type": "markdown",
   "metadata": {},
   "source": [
    "### Query 1:  \n",
    "Find all the customers that spent more than 30 dollars, who are they, which store they bought it from, location of the store, what they bought and if they are a rewards member."
   ]
  },
  {
   "cell_type": "code",
   "execution_count": 12,
   "metadata": {},
   "outputs": [
    {
     "name": "stdout",
     "output_type": "stream",
     "text": [
      "('Toby', 1, 'CA', 'Let It Be', False)\n"
     ]
    }
   ],
   "source": [
    "# Form the query\n",
    "\n",
    "# The SELECT statement\n",
    "query = \"SELECT customer.name, store.store_id, store.state, \"\n",
    "query += \"items_purchased.item_name, customer.rewards \"\n",
    "\n",
    "# The FROM statement\n",
    "query += \"FROM customer_transactions \"\n",
    "# First JOIN\n",
    "query += \"JOIN store ON customer_transactions.store_id = store.store_id \"\n",
    "# Second JOIN\n",
    "query += \"JOIN items_purchased ON customer_transactions.customer_id = items_purchased.customer_id \"\n",
    "# Third JOIN\n",
    "query += \"JOIN customer ON customer_transactions.customer_id = customer.customer_id \"\n",
    "\n",
    "# The WHERE statement\n",
    "query += \"WHERE spent > 30 \"\n",
    "\n",
    "# Execute the query\n",
    "cursor.execute(query)\n",
    "\n",
    "# Fetch first row\n",
    "row = cursor.fetchone()\n",
    "\n",
    "# Fetch all rows and print them\n",
    "while row:\n",
    "    print(row)\n",
    "    # Fetch next row\n",
    "    row = cursor.fetchone()"
   ]
  },
  {
   "cell_type": "markdown",
   "metadata": {},
   "source": [
    "### Your output from the above cell should look like this:\n",
    "('Toby', 1, 'CA', 'Let It Be', False)"
   ]
  },
  {
   "cell_type": "markdown",
   "metadata": {},
   "source": [
    "### Query 2:   \n",
    "How much did Customer 2 spend?"
   ]
  },
  {
   "cell_type": "code",
   "execution_count": 13,
   "metadata": {},
   "outputs": [
    {
     "name": "stdout",
     "output_type": "stream",
     "text": [
      "(2, 35.21)\n"
     ]
    }
   ],
   "source": [
    "# Form the query\n",
    "\n",
    "# The SELECT statement\n",
    "query = \"SELECT customer_id, spent \"\n",
    "\n",
    "# The FORM statement\n",
    "query += \"FROM customer_transactions \"\n",
    "\n",
    "# The WHERE statement\n",
    "query += \"WHERE customer_id = 2\"\n",
    "\n",
    "# Execute the query\n",
    "cursor.execute(query)\n",
    "\n",
    "# Fetch first row\n",
    "row = cursor.fetchone()\n",
    "\n",
    "# Fetch all rows and print them\n",
    "while row:\n",
    "    print(row)\n",
    "    # Fetch next row\n",
    "    row = cursor.fetchone()"
   ]
  },
  {
   "cell_type": "markdown",
   "metadata": {},
   "source": [
    "### Your output from the above cell should include Customer 2 and the amount: \n",
    "(2, 35.21)"
   ]
  },
  {
   "cell_type": "markdown",
   "metadata": {},
   "source": [
    "### Summary: \n",
    "\n",
    "You can see here from this elegant schema that we were: \n",
    "\n",
    "* 1) able to get \"facts/metrics\" from our fact table (how much each store sold), and \n",
    "\n",
    "* 2) information about our customers that will allow us to do more indepth analytics to get answers to business questions by utilizing our fact and dimension tables. "
   ]
  },
  {
   "cell_type": "markdown",
   "metadata": {},
   "source": [
    "### TO-DO: Drop the tables"
   ]
  },
  {
   "cell_type": "code",
   "execution_count": 14,
   "metadata": {},
   "outputs": [],
   "source": [
    "cursor.execute(\"DROP TABLE customer_transactions, customer, store, items_purchased\")"
   ]
  },
  {
   "cell_type": "markdown",
   "metadata": {},
   "source": [
    "### And finally close your cursor and connection. "
   ]
  },
  {
   "cell_type": "code",
   "execution_count": 15,
   "metadata": {},
   "outputs": [],
   "source": [
    "cursor.close()"
   ]
  },
  {
   "cell_type": "code",
   "execution_count": 16,
   "metadata": {},
   "outputs": [],
   "source": [
    "connection.close()"
   ]
  }
 ],
 "metadata": {
  "kernelspec": {
   "display_name": "Python 3",
   "language": "python",
   "name": "python3"
  },
  "language_info": {
   "codemirror_mode": {
    "name": "ipython",
    "version": 3
   },
   "file_extension": ".py",
   "mimetype": "text/x-python",
   "name": "python",
   "nbconvert_exporter": "python",
   "pygments_lexer": "ipython3",
   "version": "3.8.5"
  }
 },
 "nbformat": 4,
 "nbformat_minor": 2
}
