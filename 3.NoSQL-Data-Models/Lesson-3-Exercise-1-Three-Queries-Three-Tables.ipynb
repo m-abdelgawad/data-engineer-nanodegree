{
 "cells": [
  {
   "cell_type": "markdown",
   "metadata": {},
   "source": [
    "# Lesson 3 Exercise 1: Three Queries Three Tables\n",
    "<img src=\"images/cassandralogo.png\" width=\"250\" height=\"250\">"
   ]
  },
  {
   "cell_type": "markdown",
   "metadata": {},
   "source": [
    "### Walk through the basics of creating a table in Apache Cassandra, inserting rows of data, and doing a simple CQL query to validate the information. You will practice Denormalization, and the concept of 1 table per query, which is an encouraged practice with Apache Cassandra. \n",
    "\n",
    "### Remember, replace ##### with your answer.\n",
    "\n",
    "\n",
    "Note: __Do not__ click the blue Preview button at the bottom"
   ]
  },
  {
   "cell_type": "markdown",
   "metadata": {},
   "source": [
    "#### We will use a python wrapper/ python driver called cassandra to run the Apache Cassandra queries. This library should be preinstalled but in the future to install this library you can run this command in a notebook to install locally: \n",
    "! pip install cassandra-driver\n",
    "#### More documentation can be found here:  https://datastax.github.io/python-driver/"
   ]
  },
  {
   "cell_type": "markdown",
   "metadata": {},
   "source": [
    "#### Import Apache Cassandra python package"
   ]
  },
  {
   "cell_type": "code",
   "execution_count": 1,
   "metadata": {},
   "outputs": [],
   "source": [
    "# We are going to use Python driver to communicate with the Cassandra NoSQL db\n",
    "import cassandra"
   ]
  },
  {
   "cell_type": "markdown",
   "metadata": {},
   "source": [
    "### Create a connection to the database"
   ]
  },
  {
   "cell_type": "code",
   "execution_count": 2,
   "metadata": {},
   "outputs": [],
   "source": [
    "from cassandra.cluster import Cluster\n",
    "\n",
    "# Create a connection the database\n",
    "# We will use local IP address; since we have a locally installed Apache cassandra instance\n",
    "cluster = Cluster(['127.0.0.1'])"
   ]
  },
  {
   "cell_type": "code",
   "execution_count": 3,
   "metadata": {},
   "outputs": [],
   "source": [
    "# Create a session to execute inside it our queries\n",
    "session = cluster.connect()"
   ]
  },
  {
   "cell_type": "markdown",
   "metadata": {},
   "source": [
    "### Create a keyspace to work in"
   ]
  },
  {
   "cell_type": "code",
   "execution_count": 4,
   "metadata": {},
   "outputs": [
    {
     "data": {
      "text/plain": [
       "<cassandra.cluster.ResultSet at 0x1e3f8280640>"
      ]
     },
     "execution_count": 4,
     "metadata": {},
     "output_type": "execute_result"
    }
   ],
   "source": [
    "# A keyspace is the top-level database object \n",
    "# that controls the replication for the object \n",
    "# it contains at each datacenter in the cluster.\n",
    "\n",
    "# Keyspaces contain tables, materialized views and user-defined types, \n",
    "# functions and aggregates. \n",
    "# Typically, a cluster has one keyspace per application.\n",
    "\n",
    "session.execute(\"\"\"\n",
    "    CREATE KEYSPACE IF NOT EXISTS udacity\n",
    "    WITH REPLICATION = \n",
    "        {'class' : 'SimpleStrategy', 'replication_factor' : 1}\"\"\"\n",
    ")"
   ]
  },
  {
   "cell_type": "markdown",
   "metadata": {},
   "source": [
    "#### Connect to our Keyspace. Compare this to how we had to create a new session in PostgreSQL.  "
   ]
  },
  {
   "cell_type": "code",
   "execution_count": 5,
   "metadata": {},
   "outputs": [],
   "source": [
    "session.set_keyspace('udacity')"
   ]
  },
  {
   "cell_type": "markdown",
   "metadata": {},
   "source": [
    "### Let's imagine we would like to start creating a Music Library of albums. \n",
    "\n",
    "### We want to ask 3 questions of the data\n",
    "#### 1. Give every album in the music library that was released in a given year\n",
    "`select * from music_library WHERE YEAR=1970`\n",
    "#### 2. Give every album in the music library that was created by a given artist  \n",
    "`select * from artist_library WHERE artist_name=\"The Beatles\"`\n",
    "#### 3. Give all the information from the music library about a given album\n",
    "`select * from album_library WHERE album_name=\"Close To You\"`\n"
   ]
  },
  {
   "cell_type": "markdown",
   "metadata": {},
   "source": [
    "### Because we want to do three different queries, we will need three different tables that partition the data differently. "
   ]
  },
  {
   "cell_type": "markdown",
   "metadata": {},
   "source": [
    "### 1. music_library table\n",
    "\n",
    "`select * from music_library WHERE YEAR=1970`\n",
    "\n",
    "`Table Name: music_library\n",
    "column 1: Year\n",
    "column 2: Artist_Name\n",
    "column 3: Album_Name\n",
    "PRIMARY KEY (year, artist_name)`\n",
    "\n",
    "* My music_library table will be partitioned by `year`, that will be my `Partition Key`, And the `artist_name` will be my clustering column; to make each `Primary Key` unique.\n",
    "\n",
    "<img src=\"images/table1.png\" width=\"350\" height=\"350\">"
   ]
  },
  {
   "cell_type": "markdown",
   "metadata": {},
   "source": [
    "### 2. artist_library table\n",
    "\n",
    "`select * from artist_library WHERE artist_name=\"The Beatles\"`\n",
    "\n",
    "`Table Name: artist_library\n",
    "column 1: Artist_Name\n",
    "column 2: Album_Name\n",
    "column 3: Year\n",
    "PRIMARY KEY (artist_name, year)`\n",
    "\n",
    "* My artist_library table will be partitioned by `artist_name`, that will be my `Partition Key`, And the `year` will be my clustering column; to make each `Primary Key` unique.\n",
    "\n",
    "<img src=\"images/table2.png\" width=\"350\" height=\"350\">"
   ]
  },
  {
   "cell_type": "markdown",
   "metadata": {},
   "source": [
    "### 3. album_library table\n",
    "\n",
    "`select * from album_library WHERE album_name=\"Close To You\"`\n",
    "\n",
    "`Table Name: album_library\n",
    "column 1: Album_Name\n",
    "column 2: Artist_Name\n",
    "column 3: Year\n",
    "PRIMARY KEY (album_name, year)`\n",
    "\n",
    "* My album_library table will be partitioned by `album_name`, that will be my `Partition Key`, And the `year` will be my clustering column; to make each `Primary Key` unique.\n",
    "\n",
    "<img src=\"images/table0.png\" width=\"550\" height=\"550\">"
   ]
  },
  {
   "cell_type": "markdown",
   "metadata": {},
   "source": [
    "### TO-DO: Create the tables. "
   ]
  },
  {
   "cell_type": "code",
   "execution_count": 6,
   "metadata": {},
   "outputs": [
    {
     "data": {
      "text/plain": [
       "<cassandra.cluster.ResultSet at 0x1e3f82bf700>"
      ]
     },
     "execution_count": 6,
     "metadata": {},
     "output_type": "execute_result"
    }
   ],
   "source": [
    "# Table Name: music_library\n",
    "# column 1: Year\n",
    "# column 2: Artist_Name\n",
    "# column 3: Album_Name\n",
    "# PRIMARY KEY (year, artist_name)\n",
    "\n",
    "# Set the query\n",
    "query = \"CREATE TABLE IF NOT EXISTS music_library \"\n",
    "query += \"(year INT, artist_name TEXT, album_name TEXT, PRIMARY KEY (year, artist_name))\"\n",
    "\n",
    "# Execute the query\n",
    "session.execute(query)"
   ]
  },
  {
   "cell_type": "code",
   "execution_count": 7,
   "metadata": {},
   "outputs": [
    {
     "data": {
      "text/plain": [
       "<cassandra.cluster.ResultSet at 0x1e3f82a1d30>"
      ]
     },
     "execution_count": 7,
     "metadata": {},
     "output_type": "execute_result"
    }
   ],
   "source": [
    "# Table Name: artist_library\n",
    "# column 1: Artist_Name\n",
    "# column 2: Album_Name\n",
    "# column 3: Year\n",
    "# PRIMARY KEY (artist_name, year)\n",
    "\n",
    "# Set the query\n",
    "query = \"CREATE TABLE IF NOT EXISTS artist_library \"\n",
    "query += \"(artist_name TEXT, album_name TEXT, year INT, PRIMARY KEY (artist_name, year))\"\n",
    "\n",
    "# Execute the query\n",
    "session.execute(query)"
   ]
  },
  {
   "cell_type": "code",
   "execution_count": 8,
   "metadata": {},
   "outputs": [
    {
     "data": {
      "text/plain": [
       "<cassandra.cluster.ResultSet at 0x1e3f82a1790>"
      ]
     },
     "execution_count": 8,
     "metadata": {},
     "output_type": "execute_result"
    }
   ],
   "source": [
    "# Table Name: album_library\n",
    "# column 1: Album_Name\n",
    "# column 2: Artist_Name\n",
    "# column 3: Year\n",
    "# PRIMARY KEY (album_name, year)\n",
    "\n",
    "# Set the query\n",
    "query = \"CREATE TABLE IF NOT EXISTS album_library \"\n",
    "query += \"(album_name TEXT, artist_name TEXT, year INT, PRIMARY KEY (Album_Name, year))\"\n",
    "\n",
    "# Execute the query\n",
    "session.execute(query)"
   ]
  },
  {
   "cell_type": "markdown",
   "metadata": {},
   "source": [
    "### TO-DO: Insert data into the tables"
   ]
  },
  {
   "cell_type": "code",
   "execution_count": 9,
   "metadata": {},
   "outputs": [
    {
     "data": {
      "text/plain": [
       "<cassandra.cluster.ResultSet at 0x1e3f832ea30>"
      ]
     },
     "execution_count": 9,
     "metadata": {},
     "output_type": "execute_result"
    }
   ],
   "source": [
    "# Table Name: music_library\n",
    "# column 1: Year\n",
    "# column 2: Artist_Name\n",
    "# column 3: Album_Name\n",
    "# PRIMARY KEY (year, artist_name)\n",
    "\n",
    "# Set query\n",
    "query = \"INSERT INTO music_library (year, artist_name, album_name) \"\n",
    "query += \"VALUES (%s, %s, %s)\"\n",
    "\n",
    "# Execute the query and insert the data (We will insert THE SAME DATA IN ALL TABLES)\n",
    "session.execute(query, (1970, \"The Beatles\", \"Let it Be\"))\n",
    "session.execute(query, (1965, \"The Beatles\", \"Rubber Soul\"))\n",
    "session.execute(query, (1965, \"The Who\", \"My Generation\"))\n",
    "session.execute(query, (1966, \"The Monkees\", \"The Monkees\"))\n",
    "session.execute(query, (1970, \"The Carpenters\", \"Close To You\"))"
   ]
  },
  {
   "cell_type": "code",
   "execution_count": 10,
   "metadata": {},
   "outputs": [
    {
     "data": {
      "text/plain": [
       "<cassandra.cluster.ResultSet at 0x1e3f832b640>"
      ]
     },
     "execution_count": 10,
     "metadata": {},
     "output_type": "execute_result"
    }
   ],
   "source": [
    "# Table Name: artist_library\n",
    "# column 1: Artist_Name\n",
    "# column 2: Album_Name\n",
    "# column 3: Year\n",
    "# PRIMARY KEY (artist_name, year)\n",
    "\n",
    "# Set query\n",
    "query = \"INSERT INTO artist_library (artist_name, album_name, year) \"\n",
    "query += \"VALUES (%s, %s, %s)\"\n",
    "\n",
    "# Execute the query and insert two rows\n",
    "session.execute(query, (\"The Beatles\", \"Let it Be\", 1970))\n",
    "session.execute(query, (\"The Beatles\", \"Rubber Soul\", 1965))\n",
    "session.execute(query, (\"The Who\", \"My Generation\", 1965))\n",
    "session.execute(query, (\"The Monkees\", \"The Monkees\", 1966))\n",
    "session.execute(query, (\"The Carpenters\", \"Close To You\", 1970))"
   ]
  },
  {
   "cell_type": "code",
   "execution_count": 11,
   "metadata": {},
   "outputs": [
    {
     "data": {
      "text/plain": [
       "<cassandra.cluster.ResultSet at 0x1e3f832e250>"
      ]
     },
     "execution_count": 11,
     "metadata": {},
     "output_type": "execute_result"
    }
   ],
   "source": [
    "# Table Name: album_library\n",
    "# column 1: Artist_Name\n",
    "# column 2: Year\n",
    "# column 3: Album_Name\n",
    "# PRIMARY KEY (album_name, year)\n",
    "\n",
    "# Set query\n",
    "query = \"INSERT INTO album_library (album_name, artist_name, year) \"\n",
    "query += \"VALUES (%s, %s, %s)\"\n",
    "\n",
    "# Execute the query and insert two rows\n",
    "session.execute(query, (\"Let it Be\", \"The Beatles\", 1970))\n",
    "session.execute(query, (\"Rubber Soul\", \"The Beatles\", 1965))\n",
    "session.execute(query, (\"My Generation\", \"The Who\", 1965))\n",
    "session.execute(query, (\"The Monkees\", \"The Monkees\", 1966))\n",
    "session.execute(query, (\"Close To You\", \"The Carpenters\", 1970))"
   ]
  },
  {
   "cell_type": "markdown",
   "metadata": {},
   "source": [
    "This might have felt unnatural to insert duplicate data into the tables. If I just normalized these tables, I wouldn't have to have extra copies! While this is true, remember there are no `JOINS` in Apache Cassandra. For the benefit of high availibity and scalabity, denormalization must be how this is done. \n"
   ]
  },
  {
   "cell_type": "markdown",
   "metadata": {},
   "source": [
    "### TO-DO: Validate the Data Model"
   ]
  },
  {
   "cell_type": "code",
   "execution_count": 12,
   "metadata": {},
   "outputs": [
    {
     "name": "stdout",
     "output_type": "stream",
     "text": [
      "Row(year=1970, artist_name='The Beatles', album_name='Let it Be')\n",
      "Row(year=1970, artist_name='The Carpenters', album_name='Close To You')\n"
     ]
    }
   ],
   "source": [
    "# Set the query\n",
    "query = \"select * from music_library WHERE YEAR=1970\"\n",
    "\n",
    "# Execute the query\n",
    "rows = session.execute(query)\n",
    "\n",
    "# Print the results\n",
    "for row in rows:\n",
    "    print(row)"
   ]
  },
  {
   "cell_type": "markdown",
   "metadata": {},
   "source": [
    "### Your output should be:\n",
    "1970 The Beatles Let it Be<br>\n",
    "1970 The Carpenters Close To You"
   ]
  },
  {
   "cell_type": "markdown",
   "metadata": {},
   "source": [
    "### TO-DO: Validate the Data Model"
   ]
  },
  {
   "cell_type": "markdown",
   "metadata": {},
   "source": [
    "**NOTICE THAT THE QUOTES INSIDE THE QUERY NEEDS TO BE SINGLE QUOTATION**"
   ]
  },
  {
   "cell_type": "code",
   "execution_count": 13,
   "metadata": {
    "scrolled": true
   },
   "outputs": [
    {
     "name": "stdout",
     "output_type": "stream",
     "text": [
      "Row(artist_name='The Beatles', year=1965, album_name='Rubber Soul')\n",
      "Row(artist_name='The Beatles', year=1970, album_name='Let it Be')\n"
     ]
    }
   ],
   "source": [
    "# Set the query\n",
    "\n",
    "query = \"SELECT * FROM artist_library WHERE artist_name='The Beatles'\"\n",
    "\n",
    "# Execute the query\n",
    "rows = session.execute(query)\n",
    "\n",
    "# Print the results\n",
    "for row in rows:\n",
    "    print(row)"
   ]
  },
  {
   "cell_type": "markdown",
   "metadata": {},
   "source": [
    "### Your output should be:\n",
    "The Beatles Rubber Soul 1965 <br>\n",
    "The Beatles Let it Be 1970 "
   ]
  },
  {
   "cell_type": "markdown",
   "metadata": {},
   "source": [
    "### TO-DO: Validate the Data Model"
   ]
  },
  {
   "cell_type": "code",
   "execution_count": 14,
   "metadata": {},
   "outputs": [
    {
     "name": "stdout",
     "output_type": "stream",
     "text": [
      "Row(album_name='Close To You', year=1970, artist_name='The Carpenters')\n"
     ]
    }
   ],
   "source": [
    "# Set the query\n",
    "query = \"SELECT * FROM album_library WHERE album_name='Close To You'\"\n",
    "\n",
    "# Execute the query\n",
    "rows = session.execute(query)\n",
    "\n",
    "# Print the results\n",
    "for row in rows:\n",
    "    print(row)"
   ]
  },
  {
   "cell_type": "markdown",
   "metadata": {},
   "source": [
    "### Your output should be:\n",
    "The Carpenters 1970 Close To You"
   ]
  },
  {
   "cell_type": "markdown",
   "metadata": {},
   "source": [
    "### DROP THE TABLES"
   ]
  },
  {
   "cell_type": "code",
   "execution_count": 15,
   "metadata": {},
   "outputs": [
    {
     "data": {
      "text/plain": [
       "<cassandra.cluster.ResultSet at 0x1e3f833afa0>"
      ]
     },
     "execution_count": 15,
     "metadata": {},
     "output_type": "execute_result"
    }
   ],
   "source": [
    "query = \"DROP TABLE IF EXISTS music_library\"\n",
    "session.execute(query)\n",
    "\n",
    "query = \"DROP TABLE IF EXISTS artist_library\"\n",
    "session.execute(query)\n",
    "\n",
    "query = \"DROP TABLE IF EXISTS album_library\"\n",
    "session.execute(query)"
   ]
  },
  {
   "cell_type": "markdown",
   "metadata": {},
   "source": [
    "### Drop the keyspace"
   ]
  },
  {
   "cell_type": "code",
   "execution_count": 16,
   "metadata": {},
   "outputs": [
    {
     "data": {
      "text/plain": [
       "<cassandra.cluster.ResultSet at 0x1e3f8326730>"
      ]
     },
     "execution_count": 16,
     "metadata": {},
     "output_type": "execute_result"
    }
   ],
   "source": [
    "query = \"DROP KEYSPACE IF EXISTS udacity\"\n",
    "session.execute(query)"
   ]
  },
  {
   "cell_type": "markdown",
   "metadata": {},
   "source": [
    "### And finally close the session and cluster connection"
   ]
  },
  {
   "cell_type": "code",
   "execution_count": 17,
   "metadata": {},
   "outputs": [],
   "source": [
    "session.shutdown()\n",
    "cluster.shutdown()"
   ]
  }
 ],
 "metadata": {
  "kernelspec": {
   "display_name": "Python 3",
   "language": "python",
   "name": "python3"
  },
  "language_info": {
   "codemirror_mode": {
    "name": "ipython",
    "version": 3
   },
   "file_extension": ".py",
   "mimetype": "text/x-python",
   "name": "python",
   "nbconvert_exporter": "python",
   "pygments_lexer": "ipython3",
   "version": "3.8.5"
  }
 },
 "nbformat": 4,
 "nbformat_minor": 2
}
