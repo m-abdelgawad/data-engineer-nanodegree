{
 "cells": [
  {
   "cell_type": "markdown",
   "metadata": {},
   "source": [
    "# Lesson 3 Exercise 2: Focus on Primary Key\n",
    "<img src=\"images/cassandralogo.png\" width=\"250\" height=\"250\">"
   ]
  },
  {
   "cell_type": "markdown",
   "metadata": {},
   "source": [
    "### Walk through the basics of creating a table with a good Primary Key in Apache Cassandra, inserting rows of data, and doing a simple CQL query to validate the information. \n",
    "\n",
    "### Replace ##### with your own answers. \n",
    "\n",
    "Note: __Do not__ click the blue Preview button in the lower task bar"
   ]
  },
  {
   "cell_type": "markdown",
   "metadata": {},
   "source": [
    "#### We will use a python wrapper/ python driver called cassandra to run the Apache Cassandra queries. This library should be preinstalled but in the future to install this library you can run this command in a notebook to install locally: \n",
    "! pip install cassandra-driver\n",
    "#### More documentation can be found here:  https://datastax.github.io/python-driver/"
   ]
  },
  {
   "cell_type": "markdown",
   "metadata": {},
   "source": [
    "#### Import Apache Cassandra python package"
   ]
  },
  {
   "cell_type": "code",
   "execution_count": 1,
   "metadata": {},
   "outputs": [],
   "source": [
    "# We are going to use Python driver to communicate with the Cassandra NoSQL db\n",
    "import cassandra"
   ]
  },
  {
   "cell_type": "markdown",
   "metadata": {},
   "source": [
    "### Create a connection to the database"
   ]
  },
  {
   "cell_type": "code",
   "execution_count": 2,
   "metadata": {},
   "outputs": [],
   "source": [
    "from cassandra.cluster import Cluster\n",
    "\n",
    "# Create a connection the database\n",
    "# We will use local IP address; since we have a locally installed Apache cassandra instance\n",
    "cluster = Cluster(['127.0.0.1'])"
   ]
  },
  {
   "cell_type": "code",
   "execution_count": 3,
   "metadata": {},
   "outputs": [],
   "source": [
    "# Create a session to execute inside it our queries\n",
    "session = cluster.connect()"
   ]
  },
  {
   "cell_type": "markdown",
   "metadata": {},
   "source": [
    "### Create a keyspace to work in "
   ]
  },
  {
   "cell_type": "code",
   "execution_count": 4,
   "metadata": {},
   "outputs": [
    {
     "data": {
      "text/plain": [
       "<cassandra.cluster.ResultSet at 0x146fe3a3520>"
      ]
     },
     "execution_count": 4,
     "metadata": {},
     "output_type": "execute_result"
    }
   ],
   "source": [
    "# A keyspace is the top-level database object \n",
    "# that controls the replication for the object \n",
    "# it contains at each datacenter in the cluster.\n",
    "\n",
    "# Keyspaces contain tables, materialized views and user-defined types, \n",
    "# functions and aggregates. \n",
    "# Typically, a cluster has one keyspace per application.\n",
    "\n",
    "session.execute(\"\"\"\n",
    "    CREATE KEYSPACE IF NOT EXISTS udacity\n",
    "    WITH REPLICATION = \n",
    "        {'class' : 'SimpleStrategy', 'replication_factor' : 1}\"\"\"\n",
    ")"
   ]
  },
  {
   "cell_type": "markdown",
   "metadata": {},
   "source": [
    "#### Connect to the Keyspace. Compare this to how we had to create a new session in PostgreSQL.  "
   ]
  },
  {
   "cell_type": "code",
   "execution_count": 5,
   "metadata": {},
   "outputs": [],
   "source": [
    "session.set_keyspace('udacity')"
   ]
  },
  {
   "cell_type": "markdown",
   "metadata": {},
   "source": [
    "### Imagine you need to create a new Music Library of albums \n",
    "\n",
    "### Here is the information asked of the data:\n",
    "#### 1. Give every album in the music library that was created by a given artist\n",
    "`select * from music_library WHERE artist_name=\"The Beatles\"`\n"
   ]
  },
  {
   "cell_type": "markdown",
   "metadata": {},
   "source": [
    "### Here is the collection of data\n",
    "<img src=\"images/table3.png\" width=\"650\" height=\"350\">"
   ]
  },
  {
   "cell_type": "markdown",
   "metadata": {},
   "source": [
    "#### Practice by making the PRIMARY KEY only 1 Column (not 2 or more)"
   ]
  },
  {
   "cell_type": "code",
   "execution_count": 6,
   "metadata": {},
   "outputs": [
    {
     "data": {
      "text/plain": [
       "<cassandra.cluster.ResultSet at 0x146fe3aee50>"
      ]
     },
     "execution_count": 6,
     "metadata": {},
     "output_type": "execute_result"
    }
   ],
   "source": [
    "# Set the query\n",
    "query = \"CREATE TABLE IF NOT EXISTS music_library \"\n",
    "query += \"(year INT, city TEXT, artist_name TEXT, album_name TEXT, PRIMARY KEY (artist_name))\"\n",
    "\n",
    "# Execute the query and create the table\n",
    "session.execute(query)"
   ]
  },
  {
   "cell_type": "markdown",
   "metadata": {},
   "source": [
    "### Let's insert the data into the table"
   ]
  },
  {
   "cell_type": "code",
   "execution_count": 7,
   "metadata": {},
   "outputs": [
    {
     "data": {
      "text/plain": [
       "<cassandra.cluster.ResultSet at 0x146fe4074c0>"
      ]
     },
     "execution_count": 7,
     "metadata": {},
     "output_type": "execute_result"
    }
   ],
   "source": [
    "# Set the query\n",
    "query = \"INSERT INTO music_library (year, city, artist_name, album_name) \"\n",
    "query += \"VALUES (%s, %s, %s, %s)\"\n",
    "\n",
    "# Insert the data in the table\n",
    "session.execute(query, (1970, 'Liverpool', 'The Beatles', 'Let it Be'))\n",
    "session.execute(query, (1965, 'Oxford', 'The Beatles', 'Rubber Soul'))\n",
    "session.execute(query, (1966, 'Los Angeles', 'The Monkees', 'The Monkees'))\n",
    "session.execute(query, (1970, 'San Diego', 'The Carpenters', 'Close To You'))\n",
    "session.execute(query, (1965, 'London', 'The Who', 'My Generation'))"
   ]
  },
  {
   "cell_type": "markdown",
   "metadata": {},
   "source": [
    "### Validate the Data Model -- Does it give you two rows?"
   ]
  },
  {
   "cell_type": "code",
   "execution_count": 8,
   "metadata": {},
   "outputs": [
    {
     "name": "stdout",
     "output_type": "stream",
     "text": [
      "1965 The Beatles Rubber Soul Oxford\n"
     ]
    }
   ],
   "source": [
    "# Set the query\n",
    "query = \"select * from music_library WHERE artist_name='The Beatles'\"\n",
    "\n",
    "# Execute the query\n",
    "rows = session.execute(query)\n",
    "\n",
    "# Print the results\n",
    "for row in rows:\n",
    "    print(row.year, row.artist_name, row.album_name, row.city)"
   ]
  },
  {
   "cell_type": "markdown",
   "metadata": {},
   "source": [
    "### If you used just one column as your PRIMARY KEY, your output should be:\n",
    "1965 The Beatles Rubber Soul Oxford\n",
    "\n",
    "\n",
    "### That didn't work out as planned! Why is that?  Did you create a unique primary key?"
   ]
  },
  {
   "cell_type": "markdown",
   "metadata": {},
   "source": [
    "* No, we didn't create a unique primary key.\n",
    "* We know that rows are partitioned by the primary key we choose.\n",
    "* and that key should be unique. We can't have more than one row with the same value as the primary key.\n",
    "* In this exercise, we chose the artist name to be the primary key. However, we had two rows with the same value of the artist_name column.\n",
    "* We know that Apache Cassandra doesn't allow duplicated rows. Never!\n",
    "* So, when we entered the first row with the artist_name = 'The Beatles', Cassandra saved the row in a partition with that artist_name.\n",
    "* When we entered the second row with the same artist_name = 'The Beatles', Cassandra overwrote the data in that partition, and entered the new row instead of the old one."
   ]
  },
  {
   "cell_type": "markdown",
   "metadata": {},
   "source": [
    "### Try again - Create a new table with a composite key this time"
   ]
  },
  {
   "cell_type": "markdown",
   "metadata": {},
   "source": [
    "**Let's try again. Let's focus on making the PRIMARY KEY unique. Look at our dataset.. do we have anything unique for each row?**\n",
    "\n",
    "**We have a couple of options (Year, City and Album Name) but that will not get us the query we need, which is looking for album of a particular artist name.**\n",
    "\n",
    "**Let's make a composite key of the `Artist Name` AND `Year`.**\n",
    "\n",
    "**This is assuming that each artist release only one album per year (current dataset supports this assumption) -- but for a real business case, we need to fully understand our dataset to create the unique key (no betting at this case!)**"
   ]
  },
  {
   "cell_type": "markdown",
   "metadata": {},
   "source": [
    "### Drop the old table"
   ]
  },
  {
   "cell_type": "code",
   "execution_count": 9,
   "metadata": {},
   "outputs": [
    {
     "data": {
      "text/plain": [
       "<cassandra.cluster.ResultSet at 0x146fe3aedc0>"
      ]
     },
     "execution_count": 9,
     "metadata": {},
     "output_type": "execute_result"
    }
   ],
   "source": [
    "query = \"DROP TABLE IF EXISTS music_library\"\n",
    "session.execute(query)"
   ]
  },
  {
   "cell_type": "markdown",
   "metadata": {},
   "source": [
    "Recreate the table and Make a composite PRIMARY KEY of (artist_name, year)"
   ]
  },
  {
   "cell_type": "code",
   "execution_count": 10,
   "metadata": {},
   "outputs": [
    {
     "data": {
      "text/plain": [
       "<cassandra.cluster.ResultSet at 0x146fe4005e0>"
      ]
     },
     "execution_count": 10,
     "metadata": {},
     "output_type": "execute_result"
    }
   ],
   "source": [
    "# Set the query\n",
    "query = \"CREATE TABLE IF NOT EXISTS music_library \"\n",
    "query += \"(year INT, city TEXT, artist_name TEXT, album_name TEXT, PRIMARY KEY (artist_name, year))\"\n",
    "\n",
    "# Execute the query and create the table\n",
    "session.execute(query)"
   ]
  },
  {
   "cell_type": "markdown",
   "metadata": {},
   "source": [
    "### Let's insert the data into the table"
   ]
  },
  {
   "cell_type": "code",
   "execution_count": 11,
   "metadata": {},
   "outputs": [
    {
     "data": {
      "text/plain": [
       "<cassandra.cluster.ResultSet at 0x146fe400d00>"
      ]
     },
     "execution_count": 11,
     "metadata": {},
     "output_type": "execute_result"
    }
   ],
   "source": [
    "# Set the query\n",
    "query = \"INSERT INTO music_library (year, city, artist_name, album_name) \"\n",
    "query += \"VALUES (%s, %s, %s, %s)\"\n",
    "\n",
    "# Insert the data in the table\n",
    "session.execute(query, (1970, 'Liverpool', 'The Beatles', 'Let it Be'))\n",
    "session.execute(query, (1965, 'Oxford', 'The Beatles', 'Rubber Soul'))\n",
    "session.execute(query, (1966, 'Los Angeles', 'The Monkees', 'The Monkees'))\n",
    "session.execute(query, (1970, 'San Diego', 'The Carpenters', 'Close To You'))\n",
    "session.execute(query, (1965, 'London', 'The Who', 'My Generation'))"
   ]
  },
  {
   "cell_type": "markdown",
   "metadata": {},
   "source": [
    "### Validate the Data Model -- Did it work?"
   ]
  },
  {
   "cell_type": "code",
   "execution_count": 12,
   "metadata": {},
   "outputs": [
    {
     "name": "stdout",
     "output_type": "stream",
     "text": [
      "1965 The Beatles Rubber Soul Oxford\n",
      "1970 The Beatles Let it Be Liverpool\n"
     ]
    }
   ],
   "source": [
    "# Set the query\n",
    "query = \"select * from music_library WHERE artist_name='The Beatles'\"\n",
    "\n",
    "# Execute the query\n",
    "rows = session.execute(query)\n",
    "\n",
    "# Print the results\n",
    "for row in rows:\n",
    "    print(row.year, row.artist_name, row.album_name, row.city)"
   ]
  },
  {
   "cell_type": "markdown",
   "metadata": {},
   "source": [
    "### Your output should be:\n",
    "1970 The Beatles Let it Be Liverpool<br>\n",
    "1965 The Beatles Rubber Soul Oxford"
   ]
  },
  {
   "cell_type": "markdown",
   "metadata": {},
   "source": [
    "### Drop the tables"
   ]
  },
  {
   "cell_type": "code",
   "execution_count": 13,
   "metadata": {},
   "outputs": [
    {
     "data": {
      "text/plain": [
       "<cassandra.cluster.ResultSet at 0x146f6bf3460>"
      ]
     },
     "execution_count": 13,
     "metadata": {},
     "output_type": "execute_result"
    }
   ],
   "source": [
    "query = \"DROP TABLE IF EXISTS music_library\"\n",
    "session.execute(query)"
   ]
  },
  {
   "cell_type": "markdown",
   "metadata": {},
   "source": [
    "### Drop the keyspace"
   ]
  },
  {
   "cell_type": "code",
   "execution_count": 14,
   "metadata": {},
   "outputs": [
    {
     "data": {
      "text/plain": [
       "<cassandra.cluster.ResultSet at 0x146fe41cb50>"
      ]
     },
     "execution_count": 14,
     "metadata": {},
     "output_type": "execute_result"
    }
   ],
   "source": [
    "query = \"DROP KEYSPACE IF EXISTS udacity\"\n",
    "session.execute(query)"
   ]
  },
  {
   "cell_type": "markdown",
   "metadata": {},
   "source": [
    "### Close the session and cluster connection"
   ]
  },
  {
   "cell_type": "code",
   "execution_count": 15,
   "metadata": {},
   "outputs": [],
   "source": [
    "session.shutdown()\n",
    "cluster.shutdown()"
   ]
  }
 ],
 "metadata": {
  "kernelspec": {
   "display_name": "Python 3",
   "language": "python",
   "name": "python3"
  },
  "language_info": {
   "codemirror_mode": {
    "name": "ipython",
    "version": 3
   },
   "file_extension": ".py",
   "mimetype": "text/x-python",
   "name": "python",
   "nbconvert_exporter": "python",
   "pygments_lexer": "ipython3",
   "version": "3.8.5"
  }
 },
 "nbformat": 4,
 "nbformat_minor": 2
}
