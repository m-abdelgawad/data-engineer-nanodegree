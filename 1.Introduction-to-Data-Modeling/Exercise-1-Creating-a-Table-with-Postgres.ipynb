{
 "cells": [
  {
   "cell_type": "markdown",
   "metadata": {},
   "source": [
    "# Lesson 1 Exercise 1: Creating a Table with PostgreSQL\n",
    "\n",
    "Image file: postgresSQLlogo"
   ]
  },
  {
   "cell_type": "markdown",
   "metadata": {},
   "source": [
    "### Walk through the basics of PostgreSQL. You will need to complete the following tasks:\n",
    "<li>Create a table in PostgreSQL,<li>Insert rows of data<li>Run a simple SQL query to validate the information."
   ]
  },
  {
   "cell_type": "markdown",
   "metadata": {},
   "source": [
    "#### Import the library \n",
    "*Note:* An error might popup after this command has executed. If it does, read it carefully before ignoring. "
   ]
  },
  {
   "cell_type": "code",
   "execution_count": 1,
   "metadata": {},
   "outputs": [],
   "source": [
    "import psycopg2 as postgres"
   ]
  },
  {
   "cell_type": "markdown",
   "metadata": {},
   "source": [
    "### Create a connection to the database"
   ]
  },
  {
   "cell_type": "code",
   "execution_count": 2,
   "metadata": {},
   "outputs": [],
   "source": [
    "# declare connection string variables\n",
    "host = \"127.0.0.1\"\n",
    "database = \"postgres\"\n",
    "username = \"postgres\"\n",
    "password = \"123456\"\n",
    "\n",
    "# build connection string\n",
    "connection_string = 'host={} dbname={} user={} password={}'.format(host, database, username, password)\n",
    "\n",
    "# Connect to the postgres database\n",
    "connection = postgres.connect(connection_string)"
   ]
  },
  {
   "cell_type": "markdown",
   "metadata": {},
   "source": [
    "### Use the connection to get a cursor that can be used to execute queries."
   ]
  },
  {
   "cell_type": "code",
   "execution_count": 3,
   "metadata": {},
   "outputs": [],
   "source": [
    "cursor = connection.cursor()"
   ]
  },
  {
   "cell_type": "markdown",
   "metadata": {},
   "source": [
    "### Set automatic commit to be true so that each action is committed without having to call conn.commit() after each command. "
   ]
  },
  {
   "cell_type": "code",
   "execution_count": 4,
   "metadata": {},
   "outputs": [],
   "source": [
    "connection.set_session(autocommit=True)"
   ]
  },
  {
   "cell_type": "markdown",
   "metadata": {},
   "source": [
    "### Create a database to do the work in. "
   ]
  },
  {
   "cell_type": "code",
   "execution_count": 5,
   "metadata": {},
   "outputs": [],
   "source": [
    "## TO-DO: Add the database name within the CREATE DATABASE statement. You can choose your own db name.\n",
    "cursor.execute(\"CREATE DATABASE songs_db\")"
   ]
  },
  {
   "cell_type": "markdown",
   "metadata": {},
   "source": [
    "#### Add the database name in the connect statement. Let's close our connection to the default database, reconnect to the Udacity database, and get a new cursor."
   ]
  },
  {
   "cell_type": "code",
   "execution_count": 6,
   "metadata": {},
   "outputs": [],
   "source": [
    "# Close the current connection to connect to the new database\n",
    "connection.close()\n",
    "\n",
    "# Change database name\n",
    "database = \"songs_db\"\n",
    "\n",
    "# build connection string\n",
    "connection_string = 'host={} dbname={} user={} password={}'.format(host, database, username, password)\n",
    "\n",
    "# connect to the new database\n",
    "connection = postgres.connect(connection_string)\n",
    "\n",
    "# create a cursor\n",
    "cursor = connection.cursor()\n",
    "\n",
    "# Set autocommit to true\n",
    "connection.set_session(autocommit=True)"
   ]
  },
  {
   "cell_type": "markdown",
   "metadata": {},
   "source": [
    "### Create a Song Library that contains a list of songs, including the song name, artist name, year, album it was from, and if it was a single. \n",
    "\n",
    "`song title\n",
    "artist\n",
    "year\n",
    "album\n",
    "single`\n"
   ]
  },
  {
   "cell_type": "code",
   "execution_count": 7,
   "metadata": {},
   "outputs": [],
   "source": [
    "cursor.execute(\"CREATE TABLE IF NOT Exists songs (song_title varchar, \\\n",
    "                                                  artist varchar, \\\n",
    "                                                  year int, \\\n",
    "                                                  album varchar, \\\n",
    "                                                  single Boolean)\")"
   ]
  },
  {
   "cell_type": "markdown",
   "metadata": {},
   "source": [
    "###  Insert the following two rows in the table\n",
    "`First Row:  \"Across The Universe\", \"The Beatles\", \"1970\", \"False\", \"Let It Be\"`\n",
    "\n",
    "`Second Row: \"The Beatles\", \"Think For Yourself\", \"False\", \"1965\", \"Rubber Soul\"`"
   ]
  },
  {
   "cell_type": "code",
   "execution_count": 8,
   "metadata": {},
   "outputs": [],
   "source": [
    "cursor.execute(\"INSERT INTO songs (song_title, artist, year, album, single) \\\n",
    "                VALUES (%s, %s, %s, %s, %s)\", \\\n",
    "                (\"Across The Universe\", \"The Beatles\", 1970, \"Let It Be\", False)\n",
    "              )\n",
    "\n",
    "cursor.execute(\"INSERT INTO songs (song_title, artist, year, album, single) \\\n",
    "                VALUES (%s, %s, %s, %s, %s)\", \\\n",
    "                (\"Think For Yourself\", \"The Beatles\", 1965, \"Rubber Soul\", False)\n",
    "              )"
   ]
  },
  {
   "cell_type": "markdown",
   "metadata": {},
   "source": [
    "###  Validate your data was inserted into the table. \n"
   ]
  },
  {
   "cell_type": "code",
   "execution_count": 9,
   "metadata": {},
   "outputs": [
    {
     "name": "stdout",
     "output_type": "stream",
     "text": [
      "('Across The Universe', 'The Beatles', 1970, 'Let It Be', False)\n",
      "('Think For Yourself', 'The Beatles', 1965, 'Rubber Soul', False)\n"
     ]
    }
   ],
   "source": [
    "# Execute the query to get all records in the table\n",
    "cursor.execute(\"SELECT * FROM songs;\")\n",
    "\n",
    "# Fetch one row\n",
    "row = cursor.fetchone()\n",
    "\n",
    "# Loop over all rows in the results (while row doesn't equal none)\n",
    "while row:\n",
    "    \n",
    "    # print current row\n",
    "    print(row)\n",
    "    \n",
    "    # fetch the next row\n",
    "    row = cursor.fetchone()"
   ]
  },
  {
   "cell_type": "markdown",
   "metadata": {},
   "source": [
    "### And finally close your cursor and connection. "
   ]
  },
  {
   "cell_type": "code",
   "execution_count": 10,
   "metadata": {},
   "outputs": [],
   "source": [
    "cursor.close()\n",
    "connection.close()"
   ]
  }
 ],
 "metadata": {
  "kernelspec": {
   "display_name": "Python 3",
   "language": "python",
   "name": "python3"
  },
  "language_info": {
   "codemirror_mode": {
    "name": "ipython",
    "version": 3
   },
   "file_extension": ".py",
   "mimetype": "text/x-python",
   "name": "python",
   "nbconvert_exporter": "python",
   "pygments_lexer": "ipython3",
   "version": "3.8.5"
  }
 },
 "nbformat": 4,
 "nbformat_minor": 2
}
