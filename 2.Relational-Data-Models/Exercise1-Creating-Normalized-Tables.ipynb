{
 "cells": [
  {
   "cell_type": "markdown",
   "metadata": {},
   "source": [
    "# Lesson 2 Exercise 1: Creating Normalized Tables\n",
    "\n",
    "<img src=\"images/postgresSQLlogo.png\" width=\"250\" height=\"250\">"
   ]
  },
  {
   "cell_type": "markdown",
   "metadata": {},
   "source": [
    "## In this exercise we are going to walk through the basics of modeling data in normalized form. We will create tables in PostgreSQL, insert rows of data, and do simple JOIN SQL queries to show how these mutliple tables can work together. "
   ]
  },
  {
   "cell_type": "markdown",
   "metadata": {},
   "source": [
    "#### Import the library \n",
    "Note: An error might popup after this command has exectuted. If it does, read it carefully before ignoring. "
   ]
  },
  {
   "cell_type": "code",
   "execution_count": 1,
   "metadata": {},
   "outputs": [],
   "source": [
    "import psycopg2 as postgres"
   ]
  },
  {
   "cell_type": "markdown",
   "metadata": {},
   "source": [
    "__Create a connection to the database, get a cursor, and set autocommit to true)__"
   ]
  },
  {
   "cell_type": "code",
   "execution_count": 2,
   "metadata": {},
   "outputs": [],
   "source": [
    "# Prepare connection string\n",
    "host_ip = \"127.0.0.1\"\n",
    "database_name = \"postgres\"\n",
    "username = \"postgres\"\n",
    "password = \"123456\"\n",
    "port = \"5432\"\n",
    "connection_string = \"host={} dbname={} user={} password={} port={}\".format(\n",
    "    host_ip, database_name, username, password, port)\n",
    "\n",
    "# Create a connection\n",
    "connection = postgres.connect(connection_string)"
   ]
  },
  {
   "cell_type": "code",
   "execution_count": 3,
   "metadata": {},
   "outputs": [],
   "source": [
    "# Get a cursor to execute our queries\n",
    "cursor = connection.cursor()"
   ]
  },
  {
   "cell_type": "code",
   "execution_count": 4,
   "metadata": {},
   "outputs": [],
   "source": [
    "# Set auto-commit to true; to avoid comitting every action we make\n",
    "connection.set_session(autocommit = True)"
   ]
  },
  {
   "cell_type": "markdown",
   "metadata": {},
   "source": [
    "#### Let's imagine we have a table called Music Store. \n",
    "\n",
    "`Table Name: music_store\n",
    "column 0: Transaction Id\n",
    "column 1: Customer Name\n",
    "column 2: Cashier Name\n",
    "column 3: Year \n",
    "column 4: Albums Purchased`\n",
    "\n",
    "\n",
    "## Now to translate this information into a CREATE Table Statement and insert the data\n",
    "\n",
    "<img src=\"images/table12.png\" width=\"650\" height=\"650\">\n",
    "\n",
    "\n"
   ]
  },
  {
   "cell_type": "code",
   "execution_count": 5,
   "metadata": {},
   "outputs": [],
   "source": [
    "# Prepare the query of the order\n",
    "query = \"CREATE TABLE IF NOT EXISTS music_store \"\n",
    "\n",
    "# add columns with their types\n",
    "query = query + \"(transaction_id INT, \\\n",
    "                  customer_name VARCHAR, \\\n",
    "                  cashier_name VARCHAR, \\\n",
    "                  year INT, \\\n",
    "                  albums_purchased TEXT[])\"\n",
    "\n",
    "# Execute the query\n",
    "cursor.execute(query)"
   ]
  },
  {
   "cell_type": "code",
   "execution_count": 6,
   "metadata": {},
   "outputs": [],
   "source": [
    "# Build the fundmental query\n",
    "query = \"INSERT INTO music_store \"\n",
    "\n",
    "# add column names to the query\n",
    "query = query + \"(transaction_id, customer_name, cashier_name, year, albums_purchased) \" \n",
    "\n",
    "# add placeholders of the columns to the query\n",
    "query = query + \"VALUES (%s, %s, %s, %s, %s)\""
   ]
  },
  {
   "cell_type": "code",
   "execution_count": 7,
   "metadata": {},
   "outputs": [],
   "source": [
    "# Insert first row\n",
    "cursor.execute(query, (1, 'Amanda', 'Sam', 2000, ['Rubber Soul', 'Let it Be']))"
   ]
  },
  {
   "cell_type": "code",
   "execution_count": 8,
   "metadata": {},
   "outputs": [],
   "source": [
    "# Insert second row\n",
    "cursor.execute(query, (2, 'Toby', 'Sam', 2000, ['My Generation']))"
   ]
  },
  {
   "cell_type": "code",
   "execution_count": 9,
   "metadata": {},
   "outputs": [],
   "source": [
    "# Insert third row\n",
    "cursor.execute(query, (3, 'Max', 'Bob', 2018, ['Meet the Beatles', 'Help!']))"
   ]
  },
  {
   "cell_type": "code",
   "execution_count": 10,
   "metadata": {},
   "outputs": [
    {
     "name": "stdout",
     "output_type": "stream",
     "text": [
      "(1, 'Amanda', 'Sam', 2000, ['Rubber Soul', 'Let it Be'])\n",
      "(2, 'Toby', 'Sam', 2000, ['My Generation'])\n",
      "(3, 'Max', 'Bob', 2018, ['Meet the Beatles', 'Help!'])\n"
     ]
    }
   ],
   "source": [
    "# Confirm that data were inserted successful\n",
    "query = \"SELECT * FROM music_store\"\n",
    "\n",
    "# Execute the query\n",
    "rows = cursor.execute(query)\n",
    "    \n",
    "# Fetch first row\n",
    "row = cursor.fetchone()\n",
    "\n",
    "# Print all rows till row is NaN\n",
    "while row:\n",
    "    \n",
    "    # print current fetched row\n",
    "    print(row)\n",
    "    \n",
    "    # Fetch next row\n",
    "    row = cursor.fetchone()"
   ]
  },
  {
   "cell_type": "code",
   "execution_count": 11,
   "metadata": {},
   "outputs": [],
   "source": [
    "# Drop the table to clean up\n",
    "cursor.execute(\"DROP TABLE music_store\")"
   ]
  },
  {
   "cell_type": "markdown",
   "metadata": {},
   "source": [
    "#### Moving to 1st Normal Form (1NF)\n",
    "\n",
    "### TO-DO: This data has not been normalized. To get this data into 1st normal form, you need to remove any collections or list of data and break up the list of songs into individual rows. \n"
   ]
  },
  {
   "cell_type": "code",
   "execution_count": 12,
   "metadata": {},
   "outputs": [],
   "source": [
    "# Prepare the query of the order\n",
    "query = \"CREATE TABLE IF NOT EXISTS music_store \"\n",
    "\n",
    "# add columns with their types\n",
    "query = query + \"(transaction_id INT, \\\n",
    "                  customer_name VARCHAR, \\\n",
    "                  cashier_name VARCHAR, \\\n",
    "                  year INT, \\\n",
    "                  album_name TEXT)\"\n",
    "\n",
    "# Execute the query\n",
    "cursor.execute(query)"
   ]
  },
  {
   "cell_type": "code",
   "execution_count": 13,
   "metadata": {},
   "outputs": [],
   "source": [
    "# Build the fundmental query\n",
    "query = \"INSERT INTO music_store \"\n",
    "\n",
    "# add column names to the query\n",
    "query = query + \"(transaction_id, customer_name, cashier_name, year, album_name) \" \n",
    "\n",
    "# add placeholders of the columns to the query\n",
    "query = query + \"VALUES (%s, %s, %s, %s, %s)\""
   ]
  },
  {
   "cell_type": "code",
   "execution_count": 14,
   "metadata": {},
   "outputs": [],
   "source": [
    "# Insert first row\n",
    "cursor.execute(query, (1, 'Amanda', 'Sam', 2000, 'Rubber Soul'))"
   ]
  },
  {
   "cell_type": "code",
   "execution_count": 15,
   "metadata": {},
   "outputs": [],
   "source": [
    "# Insert second row\n",
    "cursor.execute(query, (1, 'Amanda', 'Sam', 2000, 'Let it Be'))"
   ]
  },
  {
   "cell_type": "code",
   "execution_count": 16,
   "metadata": {},
   "outputs": [],
   "source": [
    "# Insert third row\n",
    "cursor.execute(query, (2, 'Toby', 'Sam', 2000, 'My Generation'))"
   ]
  },
  {
   "cell_type": "code",
   "execution_count": 17,
   "metadata": {},
   "outputs": [],
   "source": [
    "# Insert fourth row\n",
    "cursor.execute(query, (3, 'Max', 'Bob', 2018, 'Meet the Beatles'))"
   ]
  },
  {
   "cell_type": "code",
   "execution_count": 18,
   "metadata": {},
   "outputs": [],
   "source": [
    "# Insert fifth row\n",
    "cursor.execute(query, (3, 'Max', 'Bob', 2018, 'Help!'))"
   ]
  },
  {
   "cell_type": "code",
   "execution_count": 19,
   "metadata": {},
   "outputs": [
    {
     "name": "stdout",
     "output_type": "stream",
     "text": [
      "(1, 'Amanda', 'Sam', 2000, 'Rubber Soul')\n",
      "(1, 'Amanda', 'Sam', 2000, 'Let it Be')\n",
      "(2, 'Toby', 'Sam', 2000, 'My Generation')\n",
      "(3, 'Max', 'Bob', 2018, 'Meet the Beatles')\n",
      "(3, 'Max', 'Bob', 2018, 'Help!')\n"
     ]
    }
   ],
   "source": [
    "# Confirm that data were inserted successful\n",
    "query = \"SELECT * FROM music_store\"\n",
    "\n",
    "# Execute the query\n",
    "rows = cursor.execute(query)\n",
    "    \n",
    "# Fetch first row\n",
    "row = cursor.fetchone()\n",
    "\n",
    "# Print all rows till row is NaN\n",
    "while row:\n",
    "    \n",
    "    # print current fetched row\n",
    "    print(row)\n",
    "    \n",
    "    # Fetch next row\n",
    "    row = cursor.fetchone()"
   ]
  },
  {
   "cell_type": "code",
   "execution_count": 20,
   "metadata": {},
   "outputs": [],
   "source": [
    "# Drop the table to clean up\n",
    "cursor.execute(\"DROP TABLE music_store\")"
   ]
  },
  {
   "cell_type": "markdown",
   "metadata": {},
   "source": [
    "#### Moving to 2nd Normal Form (2NF)\n",
    "You have now moved the data into 1NF, which is the first step in moving to 2nd Normal Form. The table is not yet in 2nd Normal Form. While each of the records in the table is unique, our Primary key (transaction id) is not unique. \n",
    "\n",
    "### TO-DO: Break up the table into two tables, transactions and albums sold. \n"
   ]
  },
  {
   "cell_type": "markdown",
   "metadata": {},
   "source": [
    "`Table Name: transactions\n",
    "column 0: transaction_id\n",
    "column 1: customer_name\n",
    "column 2: cashier_name\n",
    "column 3: year `\n",
    "\n",
    "`Table Name: albums_sold\n",
    "column 0: album_id\n",
    "column 1: transaction_id\n",
    "column 2: album_name`\n",
    "\n",
    "### Since customer can buys multiple albums in the single transactions; we need to give each album a unique ID. That's why we will create the album_id column"
   ]
  },
  {
   "cell_type": "code",
   "execution_count": 21,
   "metadata": {
    "scrolled": true
   },
   "outputs": [],
   "source": [
    "# Build the query to create the transactions table\n",
    "query = \"CREATE TABLE IF NOT EXISTS transactions \"\n",
    "query += \"(transaction_id INT, customer_name VARCHAR, cashier_name VARCHAR, year INT)\"\n",
    "\n",
    "# Execute the query and create the table\n",
    "cursor.execute(query)"
   ]
  },
  {
   "cell_type": "code",
   "execution_count": 22,
   "metadata": {},
   "outputs": [],
   "source": [
    "# Build the fundmental query\n",
    "query = \"INSERT INTO transactions \"\n",
    "\n",
    "# add column names to the query\n",
    "query += \"(transaction_id, customer_name, cashier_name, year) \" \n",
    "\n",
    "# add placeholders of the columns to the query\n",
    "query = query + \"VALUES (%s, %s, %s, %s)\""
   ]
  },
  {
   "cell_type": "code",
   "execution_count": 23,
   "metadata": {},
   "outputs": [],
   "source": [
    "# Insert first row\n",
    "cursor.execute(query, (1, 'Amanda', 'Sam', 2000))"
   ]
  },
  {
   "cell_type": "code",
   "execution_count": 24,
   "metadata": {},
   "outputs": [],
   "source": [
    "# Insert second row\n",
    "cursor.execute(query, (2, 'Toby', 'Sam', 2000))"
   ]
  },
  {
   "cell_type": "code",
   "execution_count": 25,
   "metadata": {},
   "outputs": [],
   "source": [
    "# Insert third row\n",
    "cursor.execute(query, (3, 'Max', 'Bob', 2018))"
   ]
  },
  {
   "cell_type": "code",
   "execution_count": 26,
   "metadata": {},
   "outputs": [
    {
     "name": "stdout",
     "output_type": "stream",
     "text": [
      "(1, 'Amanda', 'Sam', 2000)\n",
      "(2, 'Toby', 'Sam', 2000)\n",
      "(3, 'Max', 'Bob', 2018)\n"
     ]
    }
   ],
   "source": [
    "# Confirm that data were inserted successful\n",
    "query = \"SELECT * FROM transactions\"\n",
    "\n",
    "# Execute the query\n",
    "rows = cursor.execute(query)\n",
    "    \n",
    "# Fetch first row\n",
    "row = cursor.fetchone()\n",
    "\n",
    "# Print all rows till row is NaN\n",
    "while row:\n",
    "    \n",
    "    # print current fetched row\n",
    "    print(row)\n",
    "    \n",
    "    # Fetch next row\n",
    "    row = cursor.fetchone()"
   ]
  },
  {
   "cell_type": "code",
   "execution_count": 27,
   "metadata": {},
   "outputs": [],
   "source": [
    "# Build the query to create the albums sold table\n",
    "query = \"CREATE TABLE IF NOT EXISTS albums_sold\"\n",
    "query += \"(album_id INT, transaction_id INT, album_name VARCHAR)\"\n",
    "\n",
    "# Execute the query and create the table\n",
    "cursor.execute(query)"
   ]
  },
  {
   "cell_type": "code",
   "execution_count": 28,
   "metadata": {},
   "outputs": [],
   "source": [
    "# Build the fundmental query\n",
    "query = \"INSERT INTO albums_sold \"\n",
    "\n",
    "# add column names to the query\n",
    "query += \"(album_id, transaction_id, album_name) \" \n",
    "\n",
    "# add placeholders of the columns to the query\n",
    "query += \"VALUES (%s, %s, %s)\""
   ]
  },
  {
   "cell_type": "code",
   "execution_count": 29,
   "metadata": {},
   "outputs": [],
   "source": [
    "# Insert first row\n",
    "cursor.execute(query, (1, 1, 'Rubber Soul'))"
   ]
  },
  {
   "cell_type": "code",
   "execution_count": 30,
   "metadata": {},
   "outputs": [],
   "source": [
    "# Insert second row\n",
    "cursor.execute(query, (2, 1, 'Let it Be'))"
   ]
  },
  {
   "cell_type": "code",
   "execution_count": 31,
   "metadata": {},
   "outputs": [],
   "source": [
    "# Insert third row\n",
    "cursor.execute(query, (3, 2, 'My Generation'))"
   ]
  },
  {
   "cell_type": "code",
   "execution_count": 32,
   "metadata": {},
   "outputs": [],
   "source": [
    "# Insert fourth row\n",
    "cursor.execute(query, (4, 3, 'Meet the Beatles'))"
   ]
  },
  {
   "cell_type": "code",
   "execution_count": 33,
   "metadata": {},
   "outputs": [],
   "source": [
    "# Insert fifth row\n",
    "cursor.execute(query, (5, 3, 'Help!'))"
   ]
  },
  {
   "cell_type": "code",
   "execution_count": 34,
   "metadata": {},
   "outputs": [
    {
     "name": "stdout",
     "output_type": "stream",
     "text": [
      "(1, 1, 'Rubber Soul')\n",
      "(2, 1, 'Let it Be')\n",
      "(3, 2, 'My Generation')\n",
      "(4, 3, 'Meet the Beatles')\n",
      "(5, 3, 'Help!')\n"
     ]
    }
   ],
   "source": [
    "# Confirm that data were inserted successful\n",
    "query = \"SELECT * FROM albums_sold\"\n",
    "\n",
    "# Execute the query\n",
    "rows = cursor.execute(query)\n",
    "    \n",
    "# Fetch first row\n",
    "row = cursor.fetchone()\n",
    "\n",
    "# Print all rows till row is NaN\n",
    "while row:\n",
    "    \n",
    "    # print current fetched row\n",
    "    print(row)\n",
    "    \n",
    "    # Fetch next row\n",
    "    row = cursor.fetchone()"
   ]
  },
  {
   "cell_type": "markdown",
   "metadata": {},
   "source": [
    "### TO-DO: Do a `JOIN` on these tables to get all the information in the original first Table. "
   ]
  },
  {
   "cell_type": "markdown",
   "metadata": {},
   "source": [
    "We want to get the following columns as the original table:  \n",
    "transaction_id, customer_name, cashier_name, year, album_name\n",
    "\n",
    "Original Table:  \n",
    "(1, 'Amanda', 'Sam', 2000, 'Rubber Soul')  \n",
    "(1, 'Amanda', 'Sam', 2000, 'Let it Be')  \n",
    "(2, 'Toby', 'Sam', 2000, 'My Generation') \n",
    "(3, 'Max', 'Bob', 2018, 'Meet the Beatles')  \n",
    "(3, 'Max', 'Bob', 2018, 'Help!')  "
   ]
  },
  {
   "cell_type": "code",
   "execution_count": 35,
   "metadata": {},
   "outputs": [
    {
     "name": "stdout",
     "output_type": "stream",
     "text": [
      "(1, 'Amanda', 'Sam', 2000, 'Rubber Soul')\n",
      "(1, 'Amanda', 'Sam', 2000, 'Let it Be')\n",
      "(2, 'Toby', 'Sam', 2000, 'My Generation')\n",
      "(3, 'Max', 'Bob', 2018, 'Meet the Beatles')\n",
      "(3, 'Max', 'Bob', 2018, 'Help!')\n"
     ]
    }
   ],
   "source": [
    "# Build the JOIN query\n",
    "query = \"SELECT transactions.transaction_id, transactions.customer_name, \"\n",
    "query += \"transactions.cashier_name, transactions.year, albums_sold.album_name \"\n",
    "query += \"FROM transactions JOIN albums_sold \"\n",
    "query += \"ON transactions.transaction_id = albums_sold.transaction_id\"\n",
    "\n",
    "# Execute the query\n",
    "rows = cursor.execute(query)\n",
    "    \n",
    "# Fetch first row\n",
    "row = cursor.fetchone()\n",
    "\n",
    "# Print all rows till row is NaN\n",
    "while row:\n",
    "    \n",
    "    # print current fetched row\n",
    "    print(row)\n",
    "    \n",
    "    # Fetch next row\n",
    "    row = cursor.fetchone()"
   ]
  },
  {
   "cell_type": "code",
   "execution_count": 36,
   "metadata": {},
   "outputs": [],
   "source": [
    "# Drop the table to clean up\n",
    "cursor.execute(\"DROP TABLE transactions\")"
   ]
  },
  {
   "cell_type": "markdown",
   "metadata": {},
   "source": [
    "#### Moving to 3rd Normal Form (3NF)\n",
    "Check our table for any transitive dependencies. \n",
    "_HINT:_ Check the table for any transitive dependencies. _Transactions_ can remove _Cashier Name_ to its own table, called _Employees_, which will leave us with 3 tables. \n",
    "\n",
    "\n",
    "### TO-DO: Create the third table named *employees* to move to 3rd NF. \n"
   ]
  },
  {
   "cell_type": "markdown",
   "metadata": {},
   "source": [
    "`Table Name: transactions \n",
    "column 0: transaction Id\n",
    "column 1: Customer Name\n",
    "column 2: Cashier Id\n",
    "column 3: Year `\n",
    "\n",
    "`Table Name: albums_sold\n",
    "column 0: Album Id\n",
    "column 1: Transaction Id\n",
    "column 3: Album Name` \n",
    "\n",
    "`Table Name: employees\n",
    "column 0: Employee Id\n",
    "column 1: Employee Name `"
   ]
  },
  {
   "cell_type": "code",
   "execution_count": 37,
   "metadata": {},
   "outputs": [],
   "source": [
    "# Build the query to create the transactions table\n",
    "query = \"CREATE TABLE IF NOT EXISTS employees \"\n",
    "query += \"(employee_id INT, employee_name VARCHAR)\"\n",
    "\n",
    "# Execute the query and create the table\n",
    "cursor.execute(query)"
   ]
  },
  {
   "cell_type": "code",
   "execution_count": 38,
   "metadata": {},
   "outputs": [],
   "source": [
    "# set fundamental query\n",
    "query = \"INSERT INTO employees \"\n",
    "query += \"(employee_id, employee_name) \"\n",
    "query += \"VALUES (%s, %s)\""
   ]
  },
  {
   "cell_type": "code",
   "execution_count": 39,
   "metadata": {},
   "outputs": [],
   "source": [
    "# add the two employees to the table\n",
    "cursor.execute(query, (1, 'Sam'))\n",
    "cursor.execute(query, (2, 'Bob'))"
   ]
  },
  {
   "cell_type": "code",
   "execution_count": 40,
   "metadata": {},
   "outputs": [
    {
     "name": "stdout",
     "output_type": "stream",
     "text": [
      "(1, 'Sam')\n",
      "(2, 'Bob')\n"
     ]
    }
   ],
   "source": [
    "# Confirm that data were inserted successful\n",
    "query = \"SELECT * FROM employees\"\n",
    "\n",
    "# Execute the query\n",
    "rows = cursor.execute(query)\n",
    "    \n",
    "# Fetch first row\n",
    "row = cursor.fetchone()\n",
    "\n",
    "# Print all rows till row is NaN\n",
    "while row:\n",
    "    \n",
    "    # print current fetched row\n",
    "    print(row)\n",
    "    \n",
    "    # Fetch next row\n",
    "    row = cursor.fetchone()"
   ]
  },
  {
   "cell_type": "code",
   "execution_count": 41,
   "metadata": {},
   "outputs": [],
   "source": [
    "# Build the query to create the transactions table\n",
    "query = \"CREATE TABLE IF NOT EXISTS transactions \"\n",
    "query += \"(transaction_id INT, customer_name VARCHAR, cashier_id INT, year INT)\"\n",
    "\n",
    "# Execute the query and create the table\n",
    "cursor.execute(query)"
   ]
  },
  {
   "cell_type": "code",
   "execution_count": 42,
   "metadata": {},
   "outputs": [],
   "source": [
    "# Set the fundamental query\n",
    "query = \"INSERT INTO transactions \"\n",
    "query += \"(transaction_id, customer_name, cashier_id, year) \"\n",
    "query += \"VALUES (%s, %s, %s, %s)\""
   ]
  },
  {
   "cell_type": "code",
   "execution_count": 43,
   "metadata": {},
   "outputs": [],
   "source": [
    "# add first transaction\n",
    "cursor.execute(query, (1, 'Amanda', 1, 2000))\n",
    "\n",
    "# add second transaction\n",
    "cursor.execute(query, (2, 'Toby', 1, 2000))\n",
    "\n",
    "# add third transaction\n",
    "cursor.execute(query, (3, 'Max', 2, 2018))"
   ]
  },
  {
   "cell_type": "markdown",
   "metadata": {},
   "source": [
    "(1, 'Amanda', 'Sam', 2000, 'Rubber Soul')\n",
    "(1, 'Amanda', 'Sam', 2000, 'Let it Be')\n",
    "(2, 'Toby', 'Sam', 2000, 'My Generation')\n",
    "(3, 'Max', 'Bob', 2018, 'Meet the Beatles')\n",
    "(3, 'Max', 'Bob', 2018, 'Help!')"
   ]
  },
  {
   "cell_type": "code",
   "execution_count": 44,
   "metadata": {},
   "outputs": [
    {
     "name": "stdout",
     "output_type": "stream",
     "text": [
      "(1, 'Amanda', 1, 2000)\n",
      "(2, 'Toby', 1, 2000)\n",
      "(3, 'Max', 2, 2018)\n"
     ]
    }
   ],
   "source": [
    "# Confirm that data were inserted successful\n",
    "query = \"SELECT * FROM transactions\"\n",
    "\n",
    "# Execute the query\n",
    "rows = cursor.execute(query)\n",
    "    \n",
    "# Fetch first row\n",
    "row = cursor.fetchone()\n",
    "\n",
    "# Print all rows till row is NaN\n",
    "while row:\n",
    "    \n",
    "    # print current fetched row\n",
    "    print(row)\n",
    "    \n",
    "    # Fetch next row\n",
    "    row = cursor.fetchone()"
   ]
  },
  {
   "cell_type": "markdown",
   "metadata": {},
   "source": [
    "### TO-DO: Complete the last two `JOIN` on these 3 tables so we can get all the information we had in our first Table. "
   ]
  },
  {
   "cell_type": "code",
   "execution_count": 45,
   "metadata": {},
   "outputs": [
    {
     "name": "stdout",
     "output_type": "stream",
     "text": [
      "(1, 'Amanda', 'Sam', 2000, 'Rubber Soul')\n",
      "(1, 'Amanda', 'Sam', 2000, 'Let it Be')\n",
      "(2, 'Toby', 'Sam', 2000, 'My Generation')\n",
      "(3, 'Max', 'Bob', 2018, 'Meet the Beatles')\n",
      "(3, 'Max', 'Bob', 2018, 'Help!')\n"
     ]
    }
   ],
   "source": [
    "query = \"SELECT transactions.transaction_id, \"\n",
    "query += \"transactions.customer_name, \"\n",
    "query += \"employees.employee_name, \"\n",
    "query += \"transactions.year, \"\n",
    "query += \"albums_sold.album_name \"\n",
    "query += \"FROM (transactions JOIN employees \"\n",
    "query += \"ON transactions.cashier_id = employees.employee_id) \"\n",
    "query += \"JOIN albums_sold ON transactions.transaction_id = albums_sold.transaction_id\"\n",
    "\n",
    "# Execute the query\n",
    "rows = cursor.execute(query)\n",
    "    \n",
    "# Fetch first row\n",
    "row = cursor.fetchone()\n",
    "\n",
    "# Print all rows till row is NaN\n",
    "while row:\n",
    "    \n",
    "    # print current fetched row\n",
    "    print(row)\n",
    "    \n",
    "    # Fetch next row\n",
    "    row = cursor.fetchone()"
   ]
  },
  {
   "cell_type": "markdown",
   "metadata": {},
   "source": [
    "<img src=\"images/table12.png\" width=\"650\" height=\"650\">"
   ]
  },
  {
   "cell_type": "markdown",
   "metadata": {},
   "source": [
    "### Awesome work!! You have Normalized the dataset! "
   ]
  },
  {
   "cell_type": "markdown",
   "metadata": {},
   "source": [
    "### Drop all tables to clean up"
   ]
  },
  {
   "cell_type": "code",
   "execution_count": 46,
   "metadata": {},
   "outputs": [],
   "source": [
    "cursor.execute(\"DROP TABLE transactions, employees, albums_sold\")"
   ]
  },
  {
   "cell_type": "markdown",
   "metadata": {},
   "source": [
    "### And finally close your cursor and connection. "
   ]
  },
  {
   "cell_type": "code",
   "execution_count": 47,
   "metadata": {},
   "outputs": [],
   "source": [
    "cursor.close()\n",
    "connection.close()"
   ]
  }
 ],
 "metadata": {
  "kernelspec": {
   "display_name": "Python 3",
   "language": "python",
   "name": "python3"
  },
  "language_info": {
   "codemirror_mode": {
    "name": "ipython",
    "version": 3
   },
   "file_extension": ".py",
   "mimetype": "text/x-python",
   "name": "python",
   "nbconvert_exporter": "python",
   "pygments_lexer": "ipython3",
   "version": "3.8.5"
  }
 },
 "nbformat": 4,
 "nbformat_minor": 2
}
